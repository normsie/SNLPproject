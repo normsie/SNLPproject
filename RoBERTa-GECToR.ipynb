{
 "cells": [
  {
   "cell_type": "markdown",
   "metadata": {},
   "source": [
    "The following code is best run with Python 3.7 or ealier. Other versions of python might create conflicts with key libaries needed to run GECToR"
   ]
  },
  {
   "cell_type": "code",
   "execution_count": 1,
   "metadata": {},
   "outputs": [
    {
     "name": "stdout",
     "output_type": "stream",
     "text": [
      "fatal: destination path 'gector' already exists and is not an empty directory.\n",
      "--2023-05-03 22:20:13--  https://grammarly-nlp-data-public.s3.amazonaws.com/gector/roberta_1_gectorv2.th\n",
      "Resolving grammarly-nlp-data-public.s3.amazonaws.com (grammarly-nlp-data-public.s3.amazonaws.com)... 54.231.135.137, 52.217.110.204, 54.231.135.225, ...\n",
      "Connecting to grammarly-nlp-data-public.s3.amazonaws.com (grammarly-nlp-data-public.s3.amazonaws.com)|54.231.135.137|:443... connected.\n",
      "HTTP request sent, awaiting response... 200 OK\n",
      "Length: 514093595 (490M) [binary/octet-stream]\n",
      "Saving to: ‘roberta_1_gectorv2.th’\n",
      "\n",
      "roberta_1_gectorv2. 100%[===================>] 490,28M  12,4MB/s    in 41s     \n",
      "\n",
      "2023-05-03 22:20:55 (11,9 MB/s) - ‘roberta_1_gectorv2.th’ saved [514093595/514093595]\n",
      "\n"
     ]
    }
   ],
   "source": [
    "#getting RoBERTa and GECToR. Check the directory to make sure everything is in the correction location\n",
    "!git clone https://github.com/grammarly/gector.git\n",
    "!wget https://grammarly-nlp-data-public.s3.amazonaws.com/gector/roberta_1_gectorv2.th\n",
    "!mv roberta_1_gectorv2.th ./gector\n",
    "!cd ./gector"
   ]
  },
  {
   "cell_type": "code",
   "execution_count": 6,
   "metadata": {},
   "outputs": [
    {
     "name": "stdout",
     "output_type": "stream",
     "text": [
      "Requirement already satisfied: torch==1.10.0 in /Users/longlipop/anaconda3/envs/myenv37/lib/python3.7/site-packages (from -r gector/requirements.txt (line 1)) (1.10.0)\n",
      "Requirement already satisfied: allennlp==0.8.4 in /Users/longlipop/anaconda3/envs/myenv37/lib/python3.7/site-packages (from -r gector/requirements.txt (line 2)) (0.8.4)\n",
      "Requirement already satisfied: python-Levenshtein==0.12.1 in /Users/longlipop/anaconda3/envs/myenv37/lib/python3.7/site-packages (from -r gector/requirements.txt (line 3)) (0.12.1)\n",
      "Requirement already satisfied: transformers==4.11.3 in /Users/longlipop/anaconda3/envs/myenv37/lib/python3.7/site-packages (from -r gector/requirements.txt (line 4)) (4.11.3)\n",
      "Requirement already satisfied: scikit-learn==0.20.0 in /Users/longlipop/anaconda3/envs/myenv37/lib/python3.7/site-packages (from -r gector/requirements.txt (line 5)) (0.20.0)\n",
      "Requirement already satisfied: sentencepiece==0.1.95 in /Users/longlipop/anaconda3/envs/myenv37/lib/python3.7/site-packages (from -r gector/requirements.txt (line 6)) (0.1.95)\n",
      "Requirement already satisfied: overrides==4.1.2 in /Users/longlipop/anaconda3/envs/myenv37/lib/python3.7/site-packages (from -r gector/requirements.txt (line 7)) (4.1.2)\n",
      "Requirement already satisfied: numpy==1.19.5 in /Users/longlipop/anaconda3/envs/myenv37/lib/python3.7/site-packages (from -r gector/requirements.txt (line 8)) (1.19.5)\n",
      "Requirement already satisfied: typing-extensions in /Users/longlipop/anaconda3/envs/myenv37/lib/python3.7/site-packages (from torch==1.10.0->-r gector/requirements.txt (line 1)) (4.5.0)\n",
      "Requirement already satisfied: boto3 in /Users/longlipop/anaconda3/envs/myenv37/lib/python3.7/site-packages (from allennlp==0.8.4->-r gector/requirements.txt (line 2)) (1.26.120)\n",
      "Requirement already satisfied: pytz>=2017.3 in /Users/longlipop/anaconda3/envs/myenv37/lib/python3.7/site-packages (from allennlp==0.8.4->-r gector/requirements.txt (line 2)) (2023.3)\n",
      "Requirement already satisfied: awscli>=1.11.91 in /Users/longlipop/anaconda3/envs/myenv37/lib/python3.7/site-packages (from allennlp==0.8.4->-r gector/requirements.txt (line 2)) (1.27.120)\n",
      "Requirement already satisfied: unidecode in /Users/longlipop/anaconda3/envs/myenv37/lib/python3.7/site-packages (from allennlp==0.8.4->-r gector/requirements.txt (line 2)) (1.3.6)\n",
      "Requirement already satisfied: jsonnet>=0.10.0 in /Users/longlipop/anaconda3/envs/myenv37/lib/python3.7/site-packages (from allennlp==0.8.4->-r gector/requirements.txt (line 2)) (0.20.0)\n",
      "Requirement already satisfied: requests>=2.18 in /Users/longlipop/anaconda3/envs/myenv37/lib/python3.7/site-packages (from allennlp==0.8.4->-r gector/requirements.txt (line 2)) (2.29.0)\n",
      "Requirement already satisfied: flask>=1.0.2 in /Users/longlipop/anaconda3/envs/myenv37/lib/python3.7/site-packages (from allennlp==0.8.4->-r gector/requirements.txt (line 2)) (2.2.4)\n",
      "Requirement already satisfied: gevent>=1.3.6 in /Users/longlipop/anaconda3/envs/myenv37/lib/python3.7/site-packages (from allennlp==0.8.4->-r gector/requirements.txt (line 2)) (22.10.2)\n",
      "Requirement already satisfied: sqlparse>=0.2.4 in /Users/longlipop/anaconda3/envs/myenv37/lib/python3.7/site-packages (from allennlp==0.8.4->-r gector/requirements.txt (line 2)) (0.4.4)\n",
      "Requirement already satisfied: jsonpickle in /Users/longlipop/anaconda3/envs/myenv37/lib/python3.7/site-packages (from allennlp==0.8.4->-r gector/requirements.txt (line 2)) (3.0.1)\n",
      "Requirement already satisfied: flaky in /Users/longlipop/anaconda3/envs/myenv37/lib/python3.7/site-packages (from allennlp==0.8.4->-r gector/requirements.txt (line 2)) (3.7.0)\n",
      "Requirement already satisfied: pytest in /Users/longlipop/anaconda3/envs/myenv37/lib/python3.7/site-packages (from allennlp==0.8.4->-r gector/requirements.txt (line 2)) (7.3.1)\n",
      "Requirement already satisfied: responses>=0.7 in /Users/longlipop/anaconda3/envs/myenv37/lib/python3.7/site-packages (from allennlp==0.8.4->-r gector/requirements.txt (line 2)) (0.23.1)\n",
      "Requirement already satisfied: tensorboardX>=1.2 in /Users/longlipop/anaconda3/envs/myenv37/lib/python3.7/site-packages (from allennlp==0.8.4->-r gector/requirements.txt (line 2)) (2.6)\n",
      "Requirement already satisfied: spacy<2.2,>=2.0.18 in /Users/longlipop/anaconda3/envs/myenv37/lib/python3.7/site-packages (from allennlp==0.8.4->-r gector/requirements.txt (line 2)) (2.1.9)\n",
      "Requirement already satisfied: numpydoc>=0.8.0 in /Users/longlipop/anaconda3/envs/myenv37/lib/python3.7/site-packages (from allennlp==0.8.4->-r gector/requirements.txt (line 2)) (1.5.0)\n",
      "Requirement already satisfied: editdistance in /Users/longlipop/anaconda3/envs/myenv37/lib/python3.7/site-packages (from allennlp==0.8.4->-r gector/requirements.txt (line 2)) (0.6.2)\n",
      "Requirement already satisfied: word2number>=1.1 in /Users/longlipop/anaconda3/envs/myenv37/lib/python3.7/site-packages (from allennlp==0.8.4->-r gector/requirements.txt (line 2)) (1.1)\n",
      "Requirement already satisfied: conllu==0.11 in /Users/longlipop/anaconda3/envs/myenv37/lib/python3.7/site-packages (from allennlp==0.8.4->-r gector/requirements.txt (line 2)) (0.11)\n",
      "Requirement already satisfied: h5py in /Users/longlipop/anaconda3/envs/myenv37/lib/python3.7/site-packages (from allennlp==0.8.4->-r gector/requirements.txt (line 2)) (3.8.0)\n",
      "Requirement already satisfied: pytorch-pretrained-bert>=0.6.0 in /Users/longlipop/anaconda3/envs/myenv37/lib/python3.7/site-packages (from allennlp==0.8.4->-r gector/requirements.txt (line 2)) (0.6.2)\n",
      "Requirement already satisfied: ftfy in /Users/longlipop/anaconda3/envs/myenv37/lib/python3.7/site-packages (from allennlp==0.8.4->-r gector/requirements.txt (line 2)) (6.1.1)\n",
      "Requirement already satisfied: scipy in /Users/longlipop/anaconda3/envs/myenv37/lib/python3.7/site-packages (from allennlp==0.8.4->-r gector/requirements.txt (line 2)) (1.7.3)\n",
      "Requirement already satisfied: nltk in /Users/longlipop/anaconda3/envs/myenv37/lib/python3.7/site-packages (from allennlp==0.8.4->-r gector/requirements.txt (line 2)) (3.8.1)\n",
      "Requirement already satisfied: parsimonious>=0.8.0 in /Users/longlipop/anaconda3/envs/myenv37/lib/python3.7/site-packages (from allennlp==0.8.4->-r gector/requirements.txt (line 2)) (0.10.0)\n",
      "Requirement already satisfied: flask-cors>=3.0.7 in /Users/longlipop/anaconda3/envs/myenv37/lib/python3.7/site-packages (from allennlp==0.8.4->-r gector/requirements.txt (line 2)) (3.0.10)\n",
      "Requirement already satisfied: matplotlib>=2.2.3 in /Users/longlipop/anaconda3/envs/myenv37/lib/python3.7/site-packages (from allennlp==0.8.4->-r gector/requirements.txt (line 2)) (3.5.3)\n",
      "Requirement already satisfied: tqdm>=4.19 in /Users/longlipop/anaconda3/envs/myenv37/lib/python3.7/site-packages (from allennlp==0.8.4->-r gector/requirements.txt (line 2)) (4.65.0)\n",
      "Requirement already satisfied: setuptools in /Users/longlipop/anaconda3/envs/myenv37/lib/python3.7/site-packages (from python-Levenshtein==0.12.1->-r gector/requirements.txt (line 3)) (65.6.3)\n",
      "Requirement already satisfied: pyyaml>=5.1 in /Users/longlipop/anaconda3/envs/myenv37/lib/python3.7/site-packages (from transformers==4.11.3->-r gector/requirements.txt (line 4)) (5.4.1)\n",
      "Requirement already satisfied: sacremoses in /Users/longlipop/anaconda3/envs/myenv37/lib/python3.7/site-packages (from transformers==4.11.3->-r gector/requirements.txt (line 4)) (0.0.53)\n",
      "Requirement already satisfied: importlib-metadata in /Users/longlipop/anaconda3/envs/myenv37/lib/python3.7/site-packages (from transformers==4.11.3->-r gector/requirements.txt (line 4)) (6.6.0)\n",
      "Requirement already satisfied: packaging>=20.0 in /Users/longlipop/anaconda3/envs/myenv37/lib/python3.7/site-packages (from transformers==4.11.3->-r gector/requirements.txt (line 4)) (23.1)\n",
      "Requirement already satisfied: regex!=2019.12.17 in /Users/longlipop/anaconda3/envs/myenv37/lib/python3.7/site-packages (from transformers==4.11.3->-r gector/requirements.txt (line 4)) (2022.10.31)\n",
      "Requirement already satisfied: huggingface-hub>=0.0.17 in /Users/longlipop/anaconda3/envs/myenv37/lib/python3.7/site-packages (from transformers==4.11.3->-r gector/requirements.txt (line 4)) (0.14.1)\n",
      "Requirement already satisfied: tokenizers<0.11,>=0.10.1 in /Users/longlipop/anaconda3/envs/myenv37/lib/python3.7/site-packages (from transformers==4.11.3->-r gector/requirements.txt (line 4)) (0.10.3)\n",
      "Requirement already satisfied: filelock in /Users/longlipop/anaconda3/envs/myenv37/lib/python3.7/site-packages (from transformers==4.11.3->-r gector/requirements.txt (line 4)) (3.12.0)\n",
      "Requirement already satisfied: typing-utils>=0.0.3 in /Users/longlipop/anaconda3/envs/myenv37/lib/python3.7/site-packages (from overrides==4.1.2->-r gector/requirements.txt (line 7)) (0.1.0)\n",
      "Requirement already satisfied: rsa<4.8,>=3.1.2 in /Users/longlipop/anaconda3/envs/myenv37/lib/python3.7/site-packages (from awscli>=1.11.91->allennlp==0.8.4->-r gector/requirements.txt (line 2)) (4.7.2)\n",
      "Requirement already satisfied: s3transfer<0.7.0,>=0.6.0 in /Users/longlipop/anaconda3/envs/myenv37/lib/python3.7/site-packages (from awscli>=1.11.91->allennlp==0.8.4->-r gector/requirements.txt (line 2)) (0.6.0)\n",
      "Requirement already satisfied: docutils<0.17,>=0.10 in /Users/longlipop/anaconda3/envs/myenv37/lib/python3.7/site-packages (from awscli>=1.11.91->allennlp==0.8.4->-r gector/requirements.txt (line 2)) (0.16)\n",
      "Requirement already satisfied: colorama<0.4.5,>=0.2.5 in /Users/longlipop/anaconda3/envs/myenv37/lib/python3.7/site-packages (from awscli>=1.11.91->allennlp==0.8.4->-r gector/requirements.txt (line 2)) (0.4.4)\n",
      "Requirement already satisfied: botocore==1.29.120 in /Users/longlipop/anaconda3/envs/myenv37/lib/python3.7/site-packages (from awscli>=1.11.91->allennlp==0.8.4->-r gector/requirements.txt (line 2)) (1.29.120)\n",
      "Requirement already satisfied: jmespath<2.0.0,>=0.7.1 in /Users/longlipop/anaconda3/envs/myenv37/lib/python3.7/site-packages (from botocore==1.29.120->awscli>=1.11.91->allennlp==0.8.4->-r gector/requirements.txt (line 2)) (1.0.1)\n",
      "Requirement already satisfied: python-dateutil<3.0.0,>=2.1 in /Users/longlipop/anaconda3/envs/myenv37/lib/python3.7/site-packages (from botocore==1.29.120->awscli>=1.11.91->allennlp==0.8.4->-r gector/requirements.txt (line 2)) (2.8.2)\n",
      "Requirement already satisfied: urllib3<1.27,>=1.25.4 in /Users/longlipop/anaconda3/envs/myenv37/lib/python3.7/site-packages (from botocore==1.29.120->awscli>=1.11.91->allennlp==0.8.4->-r gector/requirements.txt (line 2)) (1.26.15)\n",
      "Requirement already satisfied: Werkzeug>=2.2.2 in /Users/longlipop/anaconda3/envs/myenv37/lib/python3.7/site-packages (from flask>=1.0.2->allennlp==0.8.4->-r gector/requirements.txt (line 2)) (2.2.3)\n",
      "Requirement already satisfied: click>=8.0 in /Users/longlipop/anaconda3/envs/myenv37/lib/python3.7/site-packages (from flask>=1.0.2->allennlp==0.8.4->-r gector/requirements.txt (line 2)) (8.1.3)\n",
      "Requirement already satisfied: itsdangerous>=2.0 in /Users/longlipop/anaconda3/envs/myenv37/lib/python3.7/site-packages (from flask>=1.0.2->allennlp==0.8.4->-r gector/requirements.txt (line 2)) (2.1.2)\n",
      "Requirement already satisfied: Jinja2>=3.0 in /Users/longlipop/anaconda3/envs/myenv37/lib/python3.7/site-packages (from flask>=1.0.2->allennlp==0.8.4->-r gector/requirements.txt (line 2)) (3.1.2)\n",
      "Requirement already satisfied: Six in /Users/longlipop/anaconda3/envs/myenv37/lib/python3.7/site-packages (from flask-cors>=3.0.7->allennlp==0.8.4->-r gector/requirements.txt (line 2)) (1.16.0)\n",
      "Requirement already satisfied: greenlet>=2.0.0 in /Users/longlipop/anaconda3/envs/myenv37/lib/python3.7/site-packages (from gevent>=1.3.6->allennlp==0.8.4->-r gector/requirements.txt (line 2)) (2.0.2)\n",
      "Requirement already satisfied: zope.event in /Users/longlipop/anaconda3/envs/myenv37/lib/python3.7/site-packages (from gevent>=1.3.6->allennlp==0.8.4->-r gector/requirements.txt (line 2)) (4.6)\n",
      "Requirement already satisfied: zope.interface in /Users/longlipop/anaconda3/envs/myenv37/lib/python3.7/site-packages (from gevent>=1.3.6->allennlp==0.8.4->-r gector/requirements.txt (line 2)) (6.0)\n",
      "Requirement already satisfied: fsspec in /Users/longlipop/anaconda3/envs/myenv37/lib/python3.7/site-packages (from huggingface-hub>=0.0.17->transformers==4.11.3->-r gector/requirements.txt (line 4)) (2023.1.0)\n",
      "Requirement already satisfied: zipp>=0.5 in /Users/longlipop/anaconda3/envs/myenv37/lib/python3.7/site-packages (from importlib-metadata->transformers==4.11.3->-r gector/requirements.txt (line 4)) (3.15.0)\n",
      "Requirement already satisfied: pyparsing>=2.2.1 in /Users/longlipop/anaconda3/envs/myenv37/lib/python3.7/site-packages (from matplotlib>=2.2.3->allennlp==0.8.4->-r gector/requirements.txt (line 2)) (3.0.9)\n",
      "Requirement already satisfied: cycler>=0.10 in /Users/longlipop/anaconda3/envs/myenv37/lib/python3.7/site-packages (from matplotlib>=2.2.3->allennlp==0.8.4->-r gector/requirements.txt (line 2)) (0.11.0)\n",
      "Requirement already satisfied: fonttools>=4.22.0 in /Users/longlipop/anaconda3/envs/myenv37/lib/python3.7/site-packages (from matplotlib>=2.2.3->allennlp==0.8.4->-r gector/requirements.txt (line 2)) (4.38.0)\n",
      "Requirement already satisfied: pillow>=6.2.0 in /Users/longlipop/anaconda3/envs/myenv37/lib/python3.7/site-packages (from matplotlib>=2.2.3->allennlp==0.8.4->-r gector/requirements.txt (line 2)) (9.5.0)\n",
      "Requirement already satisfied: kiwisolver>=1.0.1 in /Users/longlipop/anaconda3/envs/myenv37/lib/python3.7/site-packages (from matplotlib>=2.2.3->allennlp==0.8.4->-r gector/requirements.txt (line 2)) (1.4.4)\n",
      "Requirement already satisfied: sphinx>=4.2 in /Users/longlipop/anaconda3/envs/myenv37/lib/python3.7/site-packages (from numpydoc>=0.8.0->allennlp==0.8.4->-r gector/requirements.txt (line 2)) (5.3.0)\n",
      "Requirement already satisfied: charset-normalizer<4,>=2 in /Users/longlipop/anaconda3/envs/myenv37/lib/python3.7/site-packages (from requests>=2.18->allennlp==0.8.4->-r gector/requirements.txt (line 2)) (3.1.0)\n",
      "Requirement already satisfied: idna<4,>=2.5 in /Users/longlipop/anaconda3/envs/myenv37/lib/python3.7/site-packages (from requests>=2.18->allennlp==0.8.4->-r gector/requirements.txt (line 2)) (3.4)\n",
      "Requirement already satisfied: certifi>=2017.4.17 in /Users/longlipop/anaconda3/envs/myenv37/lib/python3.7/site-packages (from requests>=2.18->allennlp==0.8.4->-r gector/requirements.txt (line 2)) (2022.12.7)\n",
      "Requirement already satisfied: types-PyYAML in /Users/longlipop/anaconda3/envs/myenv37/lib/python3.7/site-packages (from responses>=0.7->allennlp==0.8.4->-r gector/requirements.txt (line 2)) (6.0.12.9)\n",
      "Requirement already satisfied: preshed<2.1.0,>=2.0.1 in /Users/longlipop/anaconda3/envs/myenv37/lib/python3.7/site-packages (from spacy<2.2,>=2.0.18->allennlp==0.8.4->-r gector/requirements.txt (line 2)) (2.0.1)\n",
      "Requirement already satisfied: wasabi<1.1.0,>=0.2.0 in /Users/longlipop/anaconda3/envs/myenv37/lib/python3.7/site-packages (from spacy<2.2,>=2.0.18->allennlp==0.8.4->-r gector/requirements.txt (line 2)) (0.10.1)\n",
      "Requirement already satisfied: thinc<7.1.0,>=7.0.8 in /Users/longlipop/anaconda3/envs/myenv37/lib/python3.7/site-packages (from spacy<2.2,>=2.0.18->allennlp==0.8.4->-r gector/requirements.txt (line 2)) (7.0.8)\n",
      "Requirement already satisfied: murmurhash<1.1.0,>=0.28.0 in /Users/longlipop/anaconda3/envs/myenv37/lib/python3.7/site-packages (from spacy<2.2,>=2.0.18->allennlp==0.8.4->-r gector/requirements.txt (line 2)) (1.0.9)\n",
      "Requirement already satisfied: cymem<2.1.0,>=2.0.2 in /Users/longlipop/anaconda3/envs/myenv37/lib/python3.7/site-packages (from spacy<2.2,>=2.0.18->allennlp==0.8.4->-r gector/requirements.txt (line 2)) (2.0.7)\n",
      "Requirement already satisfied: blis<0.3.0,>=0.2.2 in /Users/longlipop/anaconda3/envs/myenv37/lib/python3.7/site-packages (from spacy<2.2,>=2.0.18->allennlp==0.8.4->-r gector/requirements.txt (line 2)) (0.2.4)\n",
      "Requirement already satisfied: plac<1.0.0,>=0.9.6 in /Users/longlipop/anaconda3/envs/myenv37/lib/python3.7/site-packages (from spacy<2.2,>=2.0.18->allennlp==0.8.4->-r gector/requirements.txt (line 2)) (0.9.6)\n",
      "Requirement already satisfied: srsly<1.1.0,>=0.0.6 in /Users/longlipop/anaconda3/envs/myenv37/lib/python3.7/site-packages (from spacy<2.2,>=2.0.18->allennlp==0.8.4->-r gector/requirements.txt (line 2)) (1.0.6)\n",
      "Requirement already satisfied: protobuf<4,>=3.8.0 in /Users/longlipop/anaconda3/envs/myenv37/lib/python3.7/site-packages (from tensorboardX>=1.2->allennlp==0.8.4->-r gector/requirements.txt (line 2)) (3.20.3)\n",
      "Requirement already satisfied: wcwidth>=0.2.5 in /Users/longlipop/anaconda3/envs/myenv37/lib/python3.7/site-packages (from ftfy->allennlp==0.8.4->-r gector/requirements.txt (line 2)) (0.2.6)\n",
      "Requirement already satisfied: joblib in /Users/longlipop/anaconda3/envs/myenv37/lib/python3.7/site-packages (from nltk->allennlp==0.8.4->-r gector/requirements.txt (line 2)) (1.2.0)\n",
      "Requirement already satisfied: tomli>=1.0.0 in /Users/longlipop/anaconda3/envs/myenv37/lib/python3.7/site-packages (from pytest->allennlp==0.8.4->-r gector/requirements.txt (line 2)) (2.0.1)\n",
      "Requirement already satisfied: iniconfig in /Users/longlipop/anaconda3/envs/myenv37/lib/python3.7/site-packages (from pytest->allennlp==0.8.4->-r gector/requirements.txt (line 2)) (2.0.0)\n",
      "Requirement already satisfied: exceptiongroup>=1.0.0rc8 in /Users/longlipop/anaconda3/envs/myenv37/lib/python3.7/site-packages (from pytest->allennlp==0.8.4->-r gector/requirements.txt (line 2)) (1.1.1)\n",
      "Requirement already satisfied: pluggy<2.0,>=0.12 in /Users/longlipop/anaconda3/envs/myenv37/lib/python3.7/site-packages (from pytest->allennlp==0.8.4->-r gector/requirements.txt (line 2)) (1.0.0)\n",
      "Requirement already satisfied: MarkupSafe>=2.0 in /Users/longlipop/anaconda3/envs/myenv37/lib/python3.7/site-packages (from Jinja2>=3.0->flask>=1.0.2->allennlp==0.8.4->-r gector/requirements.txt (line 2)) (2.1.2)\n",
      "Requirement already satisfied: pyasn1>=0.1.3 in /Users/longlipop/anaconda3/envs/myenv37/lib/python3.7/site-packages (from rsa<4.8,>=3.1.2->awscli>=1.11.91->allennlp==0.8.4->-r gector/requirements.txt (line 2)) (0.5.0)\n",
      "Requirement already satisfied: imagesize>=1.3 in /Users/longlipop/anaconda3/envs/myenv37/lib/python3.7/site-packages (from sphinx>=4.2->numpydoc>=0.8.0->allennlp==0.8.4->-r gector/requirements.txt (line 2)) (1.4.1)\n",
      "Requirement already satisfied: Pygments>=2.12 in /Users/longlipop/anaconda3/envs/myenv37/lib/python3.7/site-packages (from sphinx>=4.2->numpydoc>=0.8.0->allennlp==0.8.4->-r gector/requirements.txt (line 2)) (2.15.1)\n",
      "Requirement already satisfied: snowballstemmer>=2.0 in /Users/longlipop/anaconda3/envs/myenv37/lib/python3.7/site-packages (from sphinx>=4.2->numpydoc>=0.8.0->allennlp==0.8.4->-r gector/requirements.txt (line 2)) (2.2.0)\n",
      "Requirement already satisfied: sphinxcontrib-jsmath in /Users/longlipop/anaconda3/envs/myenv37/lib/python3.7/site-packages (from sphinx>=4.2->numpydoc>=0.8.0->allennlp==0.8.4->-r gector/requirements.txt (line 2)) (1.0.1)\n",
      "Requirement already satisfied: sphinxcontrib-qthelp in /Users/longlipop/anaconda3/envs/myenv37/lib/python3.7/site-packages (from sphinx>=4.2->numpydoc>=0.8.0->allennlp==0.8.4->-r gector/requirements.txt (line 2)) (1.0.3)\n",
      "Requirement already satisfied: sphinxcontrib-devhelp in /Users/longlipop/anaconda3/envs/myenv37/lib/python3.7/site-packages (from sphinx>=4.2->numpydoc>=0.8.0->allennlp==0.8.4->-r gector/requirements.txt (line 2)) (1.0.2)\n",
      "Requirement already satisfied: sphinxcontrib-applehelp in /Users/longlipop/anaconda3/envs/myenv37/lib/python3.7/site-packages (from sphinx>=4.2->numpydoc>=0.8.0->allennlp==0.8.4->-r gector/requirements.txt (line 2)) (1.0.2)\n",
      "Requirement already satisfied: alabaster<0.8,>=0.7 in /Users/longlipop/anaconda3/envs/myenv37/lib/python3.7/site-packages (from sphinx>=4.2->numpydoc>=0.8.0->allennlp==0.8.4->-r gector/requirements.txt (line 2)) (0.7.13)\n",
      "Requirement already satisfied: sphinxcontrib-serializinghtml>=1.1.5 in /Users/longlipop/anaconda3/envs/myenv37/lib/python3.7/site-packages (from sphinx>=4.2->numpydoc>=0.8.0->allennlp==0.8.4->-r gector/requirements.txt (line 2)) (1.1.5)\n",
      "Requirement already satisfied: babel>=2.9 in /Users/longlipop/anaconda3/envs/myenv37/lib/python3.7/site-packages (from sphinx>=4.2->numpydoc>=0.8.0->allennlp==0.8.4->-r gector/requirements.txt (line 2)) (2.12.1)\n",
      "Requirement already satisfied: sphinxcontrib-htmlhelp>=2.0.0 in /Users/longlipop/anaconda3/envs/myenv37/lib/python3.7/site-packages (from sphinx>=4.2->numpydoc>=0.8.0->allennlp==0.8.4->-r gector/requirements.txt (line 2)) (2.0.0)\n"
     ]
    }
   ],
   "source": [
    "!pip install -r gector/requirements.txt"
   ]
  },
  {
   "cell_type": "markdown",
   "metadata": {},
   "source": [
    "The following cell allows you to test and play around with GECToR. You can replace the variable 'sent' with a grammartically incorrect sentence to check how well it works. "
   ]
  },
  {
   "cell_type": "code",
   "execution_count": 38,
   "metadata": {},
   "outputs": [
    {
     "name": "stdout",
     "output_type": "stream",
     "text": [
      "Original Sentence: I and my friend is going to the park\n",
      "\n",
      "Updated Sentence: We went to the park .\n"
     ]
    }
   ],
   "source": [
    "\n",
    "from gector.gector.gec_model import GecBERTModel\n",
    "\n",
    "# Create an instance of the model\n",
    "model = GecBERTModel(vocab_path = \"./gector/data/output_vocabulary\", model_paths = [\"./gector/roberta_1_gectorv2.th\"])\n",
    "\n",
    "# Add the sentence with grammatical errors\n",
    "sent = 'I and my friend is going to the park'\n",
    "\n",
    "# Define a function to correct grammatical errors of a given sentence\n",
    "def correction(sent):\n",
    "    batch = []\n",
    "    batch.append(sent.split())\n",
    "    final_batch, total_updates = model.handle_batch(batch)\n",
    "    updated_sent = \" \".join(final_batch[0])\n",
    "    return updated_sent\n",
    "\n",
    "print(f\"Original Sentence: {sent}\\n\")\n",
    "print(f\"Updated Sentence: {correction(sent=sent)}\")"
   ]
  },
  {
   "cell_type": "code",
   "execution_count": 25,
   "metadata": {},
   "outputs": [
    {
     "data": {
      "text/html": [
       "<div>\n",
       "<style scoped>\n",
       "    .dataframe tbody tr th:only-of-type {\n",
       "        vertical-align: middle;\n",
       "    }\n",
       "\n",
       "    .dataframe tbody tr th {\n",
       "        vertical-align: top;\n",
       "    }\n",
       "\n",
       "    .dataframe thead th {\n",
       "        text-align: right;\n",
       "    }\n",
       "</style>\n",
       "<table border=\"1\" class=\"dataframe\">\n",
       "  <thead>\n",
       "    <tr style=\"text-align: right;\">\n",
       "      <th></th>\n",
       "      <th>col5</th>\n",
       "      <th>col6</th>\n",
       "    </tr>\n",
       "  </thead>\n",
       "  <tbody>\n",
       "    <tr>\n",
       "      <th>0</th>\n",
       "      <td>Wan na Learn English ?</td>\n",
       "      <td>Wan na Learn English ?</td>\n",
       "    </tr>\n",
       "    <tr>\n",
       "      <th>1</th>\n",
       "      <td>Not that much .</td>\n",
       "      <td>Not that much .</td>\n",
       "    </tr>\n",
       "    <tr>\n",
       "      <th>2</th>\n",
       "      <td>A family , seemingly a father , a mother and t...</td>\n",
       "      <td>A family , seemingly a father , a mother and t...</td>\n",
       "    </tr>\n",
       "    <tr>\n",
       "      <th>3</th>\n",
       "      <td>A funky music starts , singing some worst obsc...</td>\n",
       "      <td>Funky music starts , playing some bad obscenit...</td>\n",
       "    </tr>\n",
       "    <tr>\n",
       "      <th>4</th>\n",
       "      <td>It seems they do n't care so much about its ly...</td>\n",
       "      <td>It seems they do n't care so much about its ly...</td>\n",
       "    </tr>\n",
       "    <tr>\n",
       "      <th>...</th>\n",
       "      <td>...</td>\n",
       "      <td>...</td>\n",
       "    </tr>\n",
       "    <tr>\n",
       "      <th>9214</th>\n",
       "      <td>but today I went by foot so it rained .</td>\n",
       "      <td>but today I went on foot because it rained .</td>\n",
       "    </tr>\n",
       "    <tr>\n",
       "      <th>9215</th>\n",
       "      <td>The weather forecast says that it will rain to...</td>\n",
       "      <td>The weather forecast says that it will rain to...</td>\n",
       "    </tr>\n",
       "    <tr>\n",
       "      <th>9216</th>\n",
       "      <td>It is depressing .</td>\n",
       "      <td>It is depressing .</td>\n",
       "    </tr>\n",
       "    <tr>\n",
       "      <th>9217</th>\n",
       "      <td>Deaflympic</td>\n",
       "      <td>Deaflympic</td>\n",
       "    </tr>\n",
       "    <tr>\n",
       "      <th>9218</th>\n",
       "      <td>Tonight in Taipei , there will be a starting c...</td>\n",
       "      <td>Tonight in Taipei , there will be a starting c...</td>\n",
       "    </tr>\n",
       "  </tbody>\n",
       "</table>\n",
       "<p>9219 rows × 2 columns</p>\n",
       "</div>"
      ],
      "text/plain": [
       "                                                   col5  \\\n",
       "0                                Wan na Learn English ?   \n",
       "1                                       Not that much .   \n",
       "2     A family , seemingly a father , a mother and t...   \n",
       "3     A funky music starts , singing some worst obsc...   \n",
       "4     It seems they do n't care so much about its ly...   \n",
       "...                                                 ...   \n",
       "9214            but today I went by foot so it rained .   \n",
       "9215  The weather forecast says that it will rain to...   \n",
       "9216                                 It is depressing .   \n",
       "9217                                         Deaflympic   \n",
       "9218  Tonight in Taipei , there will be a starting c...   \n",
       "\n",
       "                                                   col6  \n",
       "0                                Wan na Learn English ?  \n",
       "1                                       Not that much .  \n",
       "2     A family , seemingly a father , a mother and t...  \n",
       "3     Funky music starts , playing some bad obscenit...  \n",
       "4     It seems they do n't care so much about its ly...  \n",
       "...                                                 ...  \n",
       "9214       but today I went on foot because it rained .  \n",
       "9215  The weather forecast says that it will rain to...  \n",
       "9216                                 It is depressing .  \n",
       "9217                                         Deaflympic  \n",
       "9218  Tonight in Taipei , there will be a starting c...  \n",
       "\n",
       "[9219 rows x 2 columns]"
      ]
     },
     "execution_count": 25,
     "metadata": {},
     "output_type": "execute_result"
    }
   ],
   "source": [
    "import pandas as pd\n",
    "df = pd.read_csv(\"testing_data_cleaned.csv\")\n",
    "# df\n",
    "# fill in the values of col5 into col6 \n",
    "df['col6'].fillna(df['col5'], inplace=True)\n",
    "df"
   ]
  },
  {
   "cell_type": "code",
   "execution_count": 29,
   "metadata": {},
   "outputs": [
    {
     "name": "stdout",
     "output_type": "stream",
     "text": [
      "True Positive 1395\n",
      "True Negative 4696\n",
      "False Positive 3128\n",
      "False Positive 1395\n"
     ]
    }
   ],
   "source": [
    "# iterate through the sentences\n",
    "tp = tn = fp = fn = 0\n",
    "for i, sent in enumerate(df.col5) :\n",
    "    corr = correction(sent)\n",
    "    if corr == sent :\n",
    "         tn +=1 \n",
    "\n",
    "    else :\n",
    "        if sent != df.col6[i] :\n",
    "            fn += 1\n",
    "        else :\n",
    "            fp +=1\n",
    "\n",
    "tp = df.shape[0] - fn - tn\n",
    "\n",
    "print('True Positive', tp)\n",
    "print('True Negative', tn)\n",
    "print('False Positive', fn)\n",
    "print('False Positive', fp)"
   ]
  },
  {
   "cell_type": "code",
   "execution_count": 30,
   "metadata": {},
   "outputs": [
    {
     "data": {
      "text/plain": [
       "0.4447490913728241"
      ]
     },
     "execution_count": 30,
     "metadata": {},
     "output_type": "execute_result"
    }
   ],
   "source": [
    "precision = tp/(tp+fp)\n",
    "recall = tp/(tp+fn)\n",
    "F = (1+0.5**2)*((precision*recall)/((0.5**2 * precision)+recall))\n",
    "F"
   ]
  },
  {
   "cell_type": "code",
   "execution_count": null,
   "metadata": {},
   "outputs": [],
   "source": []
  }
 ],
 "metadata": {
  "kernelspec": {
   "display_name": "Python 3.7.16 ('myenv37')",
   "language": "python",
   "name": "python3"
  },
  "language_info": {
   "codemirror_mode": {
    "name": "ipython",
    "version": 3
   },
   "file_extension": ".py",
   "mimetype": "text/x-python",
   "name": "python",
   "nbconvert_exporter": "python",
   "pygments_lexer": "ipython3",
   "version": "3.7.16"
  },
  "orig_nbformat": 4,
  "vscode": {
   "interpreter": {
    "hash": "9c8c82ee68f5ff2f60e1252d3fd4874b4d6cc370f51a27b43827750b1796ca1b"
   }
  }
 },
 "nbformat": 4,
 "nbformat_minor": 2
}
